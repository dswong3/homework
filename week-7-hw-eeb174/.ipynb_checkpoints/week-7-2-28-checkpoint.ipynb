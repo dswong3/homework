{
 "cells": [
  {
   "cell_type": "markdown",
   "metadata": {},
   "source": [
    "## Dysalotus alcocki"
   ]
  },
  {
   "cell_type": "markdown",
   "metadata": {},
   "source": [
    "in terminal:\n",
    "\n",
    "#curl -s 'http://fishbase.us/summary/SpeciesSummary.php?id=16915' > dysalotusalcocki.html\n"
   ]
  },
  {
   "cell_type": "markdown",
   "metadata": {},
   "source": [
    "#grep \"Max length\" dysalotusalcocki.html\n",
    "\n",
    "The Max length is 22.5cm "
   ]
  },
  {
   "cell_type": "markdown",
   "metadata": {},
   "source": [
    "#grep 'depth range' dysalotusalcocki.html\n",
    "\n",
    "The depth range is 0 - 2100m"
   ]
  },
  {
   "cell_type": "markdown",
   "metadata": {},
   "source": [
    "## Thalassoma pavo"
   ]
  },
  {
   "cell_type": "markdown",
   "metadata": {},
   "source": [
    "in terminal:\n",
    "\n",
    "#curl -s 'http://fishbase.us/summary/SpeciesSummary.php?ID=2500&AT=Zzita' > thalassomapavo.html"
   ]
  },
  {
   "cell_type": "markdown",
   "metadata": {},
   "source": [
    "#grep \"Max length\" thalassomapavo.html\n",
    "\n",
    "The Max length is 25.0cm"
   ]
  },
  {
   "cell_type": "markdown",
   "metadata": {},
   "source": [
    "#grep ; depth range' thalassomapavo.html\n",
    "\n",
    "The depth range is 1-150 m"
   ]
  },
  {
   "cell_type": "code",
   "execution_count": null,
   "metadata": {
    "collapsed": true
   },
   "outputs": [],
   "source": []
  }
 ],
 "metadata": {
  "kernelspec": {
   "display_name": "Python 3",
   "language": "python",
   "name": "python3"
  },
  "language_info": {
   "codemirror_mode": {
    "name": "ipython",
    "version": 3
   },
   "file_extension": ".py",
   "mimetype": "text/x-python",
   "name": "python",
   "nbconvert_exporter": "python",
   "pygments_lexer": "ipython3",
   "version": "3.5.2"
  }
 },
 "nbformat": 4,
 "nbformat_minor": 2
}
