{
 "cells": [
  {
   "cell_type": "markdown",
   "metadata": {
    "collapsed": true
   },
   "source": [
    "# Part 2"
   ]
  },
  {
   "cell_type": "markdown",
   "metadata": {},
   "source": [
    "## pseudocode\n",
    "\n",
    "first figure out how to split data into codons (sets of 3's)\n",
    "\n",
    "find the right range to include all data\n",
    "\n",
    "translate the codons into the AA\n",
    "\n",
    "display the protein and sequence"
   ]
  },
  {
   "cell_type": "code",
   "execution_count": 3,
   "metadata": {
    "collapsed": true
   },
   "outputs": [],
   "source": [
    "def translate_dna(dna): \n",
    "    last_codon_start = len(dna) - 2 \n",
    "    protein = \"\" \n",
    "    for start in range(0,last_codon_start,3): \n",
    "        codon = dna[start:start+3] \n",
    "        aa = gencode.get(codon.upper(), 'X') \n",
    "        protein = protein + aa \n",
    "    return protein "
   ]
  },
  {
   "cell_type": "markdown",
   "metadata": {
    "collapsed": true
   },
   "source": [
    "## Part 3"
   ]
  },
  {
   "cell_type": "code",
   "execution_count": 1,
   "metadata": {
    "collapsed": true
   },
   "outputs": [],
   "source": [
    "import scipy\n",
    "\n",
    "def build_population(N, p):\n",
    "    population = []\n",
    "    for i in range (N):\n",
    "        allele1 = \"A\"\n",
    "        if scipy.random.rand() > p:\n",
    "            allele1 = \"a\"\n",
    "        allele2 = \"A\"\n",
    "        if scipy.random.rand() > p:\n",
    "            allele2 = \"a\"\n",
    "        population.append((allele1, allele2))\n",
    "    return population"
   ]
  },
  {
   "cell_type": "code",
   "execution_count": 2,
   "metadata": {
    "collapsed": false
   },
   "outputs": [
    {
     "data": {
      "text/plain": [
       "[('A', 'A'),\n",
       " ('A', 'a'),\n",
       " ('a', 'A'),\n",
       " ('A', 'a'),\n",
       " ('a', 'A'),\n",
       " ('A', 'A'),\n",
       " ('a', 'A'),\n",
       " ('A', 'A'),\n",
       " ('A', 'A'),\n",
       " ('A', 'A')]"
      ]
     },
     "execution_count": 2,
     "metadata": {},
     "output_type": "execute_result"
    }
   ],
   "source": [
    "build_population(10, 0.7)"
   ]
  },
  {
   "cell_type": "code",
   "execution_count": 3,
   "metadata": {
    "collapsed": true
   },
   "outputs": [],
   "source": [
    "def compute_frequencies(population):\n",
    "    AA=population.count((\"A\",\"A\"))\n",
    "    Aa=population.count((\"A\", \"a\"))\n",
    "    aA=population.count((\"a\", \"A\"))\n",
    "    aa=population.count((\"a\", \"a\"))\n",
    "    return ({\"AA\": AA, \"aa\": aa, \"Aa\": Aa, \"aA\": aA})"
   ]
  },
  {
   "cell_type": "code",
   "execution_count": 4,
   "metadata": {
    "collapsed": false
   },
   "outputs": [
    {
     "name": "stdout",
     "output_type": "stream",
     "text": [
      "[('A', 'a'), ('A', 'A'), ('a', 'A'), ('A', 'A'), ('a', 'A'), ('A', 'A')]\n"
     ]
    }
   ],
   "source": [
    "my_pop = build_population(6, 0.5)\n",
    "print(my_pop)"
   ]
  },
  {
   "cell_type": "code",
   "execution_count": 5,
   "metadata": {
    "collapsed": false
   },
   "outputs": [
    {
     "data": {
      "text/plain": [
       "{'AA': 3, 'Aa': 1, 'aA': 2, 'aa': 0}"
      ]
     },
     "execution_count": 5,
     "metadata": {},
     "output_type": "execute_result"
    }
   ],
   "source": [
    "compute_frequencies(my_pop)"
   ]
  },
  {
   "cell_type": "code",
   "execution_count": 6,
   "metadata": {
    "collapsed": true
   },
   "outputs": [],
   "source": [
    "def reproduce_population(population):\n",
    "    new_generation=[]\n",
    "    N=len(population)\n",
    "    for i in range(N):\n",
    "        dad=scipy.random.randint(N)\n",
    "        mom=scipy.random.randint(N)\n",
    "        chr_mom=scipy.random.randint(2)\n",
    "        offspring=(population[mom][chr_mom],population[dad][1-chr_mom])\n",
    "        new_generation.append(offspring)\n",
    "    return(new_generation)"
   ]
  },
  {
   "cell_type": "code",
   "execution_count": 7,
   "metadata": {
    "collapsed": false
   },
   "outputs": [
    {
     "data": {
      "text/plain": [
       "[('A', 'A'), ('A', 'a'), ('A', 'A'), ('A', 'A'), ('a', 'A'), ('A', 'a')]"
      ]
     },
     "execution_count": 7,
     "metadata": {},
     "output_type": "execute_result"
    }
   ],
   "source": [
    "reproduce_population(my_pop)"
   ]
  },
  {
   "cell_type": "code",
   "execution_count": 11,
   "metadata": {
    "collapsed": false
   },
   "outputs": [],
   "source": [
    "#import drift\n",
    "def simulate_drift(N, p):\n",
    "    my_pop=drift.build_population(N, p)\n",
    "    fixation=False\n",
    "    num_generations=0\n",
    "    while fixation==False:\n",
    "        genotype_counts=drift.compute_frequencies(my_pop)\n",
    "        if genotype_counts[\"AA\"] == N or genotype_counts[\"aa\"] == N:\n",
    "            print(\"An allele reached fixation at generation\", num_generations)\n",
    "            print(\"The genotype counts are\")\n",
    "            print(genotype_counts)\n",
    "            fixation==True\n",
    "            break\n",
    "        my_pop = drift.reproduce_population(my_pop)\n",
    "        num_generations=num_generations + 1"
   ]
  },
  {
   "cell_type": "code",
   "execution_count": 13,
   "metadata": {
    "collapsed": false
   },
   "outputs": [],
   "source": [
    "#simulate_drift(100, 0.5)"
   ]
  },
  {
   "cell_type": "code",
   "execution_count": 6,
   "metadata": {
    "collapsed": false,
    "scrolled": true
   },
   "outputs": [
    {
     "data": {
      "text/plain": [
       "0.39719005173783783"
      ]
     },
     "execution_count": 6,
     "metadata": {},
     "output_type": "execute_result"
    }
   ],
   "source": [
    "Jiang_data=open(\"/home/eeb177-student/Desktop/eeb-177/CSB/python/data/Jiang2013_data.csv\")\n",
    "\n",
    "Jiang=Jiang_data.readlines()\n",
    "\n",
    "def r_calc(Taxon):\n",
    "    r_values=[]\n",
    "    for line in Jiang:\n",
    "        if len(line.split(\"\\t\")) == 6: \n",
    "            if line.split(\"\\t\")[1] == Taxon:\n",
    "                r_values.append(float(line.split(\"\\t\")[3]))\n",
    "    mean_r=(sum(r_values)/len(r_values))  \n",
    "    return(mean_r)\n",
    "\n",
    "r_calc(\"Fish\")"
   ]
  },
  {
   "cell_type": "code",
   "execution_count": null,
   "metadata": {
    "collapsed": true
   },
   "outputs": [],
   "source": []
  }
 ],
 "metadata": {
  "anaconda-cloud": {},
  "kernelspec": {
   "display_name": "Python 3",
   "language": "python",
   "name": "python3"
  },
  "language_info": {
   "codemirror_mode": {
    "name": "ipython",
    "version": 3
   },
   "file_extension": ".py",
   "mimetype": "text/x-python",
   "name": "python",
   "nbconvert_exporter": "python",
   "pygments_lexer": "ipython3",
   "version": "3.5.2"
  }
 },
 "nbformat": 4,
 "nbformat_minor": 2
}
