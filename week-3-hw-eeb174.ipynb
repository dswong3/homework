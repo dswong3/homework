{
 "cells": [
  {
   "cell_type": "code",
   "execution_count": 1,
   "metadata": {
    "collapsed": false
   },
   "outputs": [
    {
     "name": "stdout",
     "output_type": "stream",
     "text": [
      "AT content is 0.6851851851851852\n"
     ]
    }
   ],
   "source": [
    "#Question 3\n",
    "\n",
    "my_dna = \"ACTGATCGATTACGTATAGTATTTGCTATCATACATATATATCGATGCGTTCAT\" \n",
    "length = len(my_dna) \n",
    "a_count = my_dna.count('A') \n",
    "t_count = my_dna.count('T') \n",
    "\n",
    "at_content = (a_count + t_count) / length \n",
    "print(\"AT content is \" + str(at_content))"
   ]
  },
  {
   "cell_type": "code",
   "execution_count": null,
   "metadata": {
    "collapsed": true
   },
   "outputs": [],
   "source": []
  },
  {
   "cell_type": "code",
   "execution_count": null,
   "metadata": {
    "collapsed": true
   },
   "outputs": [],
   "source": [
    "#Sorting out References \n",
    "\n",
    "#Hopper Grace"
   ]
  },
  {
   "cell_type": "code",
   "execution_count": 4,
   "metadata": {
    "collapsed": true
   },
   "outputs": [],
   "source": [
    "#Slicing Strings\n",
    "\n",
    "#oxyg\n",
    "#en\n",
    "#oxygen\n",
    "\n",
    "#n\n",
    "#e\n",
    "\n",
    "#removes first and last letters from the word 'oxygen'"
   ]
  },
  {
   "cell_type": "code",
   "execution_count": 5,
   "metadata": {
    "collapsed": true
   },
   "outputs": [],
   "source": [
    "#Thin Slices\n",
    "\n",
    "#[]\n",
    "#[]\n"
   ]
  },
  {
   "cell_type": "code",
   "execution_count": 6,
   "metadata": {
    "collapsed": true
   },
   "outputs": [],
   "source": [
    "#Plot Scaling\n",
    "\n",
    "#the axis are usually set to the min and max of the data\n",
    "\n",
    "#axes3.set_ylabel('min')\n",
    "#axes3.plot(numpy.min(data, axis=0))\n",
    "#axes3.set_ylim(0,6)\n",
    "\n"
   ]
  },
  {
   "cell_type": "code",
   "execution_count": 7,
   "metadata": {
    "collapsed": true
   },
   "outputs": [],
   "source": [
    "#Drawing Straight Lines\n",
    "\n",
    "#matplotlib automatically draws straight lines between points"
   ]
  },
  {
   "cell_type": "code",
   "execution_count": 8,
   "metadata": {
    "collapsed": true
   },
   "outputs": [],
   "source": [
    "#Make Your Own Plot\n",
    "\n",
    "#max_plot = matplotlib.pyplot.plot(numpy.std(data, axis=0))\n",
    "#matplotlib.pyplot.show()"
   ]
  },
  {
   "cell_type": "code",
   "execution_count": 11,
   "metadata": {
    "collapsed": false
   },
   "outputs": [],
   "source": [
    "#Moving Plots Around\n",
    "\n",
    "#import numpy\n",
    "#import matplotlib.pyplot\n",
    "\n",
    "#data = numpy.loadtxt(fname='data/inflammation-01.csv', delimiter=',')\n",
    "\n",
    "#fig = matplotlib.pyplot.figure(figsize=(3.0, 10.0))\n",
    "\n",
    "#axes1 = fig.add_subplot(3, 1, 1)\n",
    "#axes2 = fig.add_subplot(3, 1, 2)\n",
    "#axes3 = fig.add_subplot(3, 1, 3)\n",
    "\n",
    "#axes1.set_ylabel('average')\n",
    "#axes1.plot(numpy.mean(data, axis=0))\n",
    "\n",
    "#axes2.set_ylabel('max')\n",
    "#axes2.plot(numpy.max(data, axis=0))\n",
    "\n",
    "#axes3.set_ylabel('min')\n",
    "#axes3.plot(numpy.min(data, axis=0))\n",
    "\n",
    "#fig.tight_layout()\n",
    "\n",
    "#matplotlib.pyplot.show()\n"
   ]
  },
  {
   "cell_type": "code",
   "execution_count": 13,
   "metadata": {
    "collapsed": true
   },
   "outputs": [],
   "source": [
    "#Stacking Arrays\n",
    "\n",
    "#D = numpy.hstack((A[:, :1], A[:, -1:]))\n",
    "#print('D = ')\n",
    "#print(D)\n",
    "\n",
    "#D = numpy.delete(A, 1, 1)\n",
    "#print('D = ')\n",
    "#print(D)"
   ]
  },
  {
   "cell_type": "code",
   "execution_count": null,
   "metadata": {
    "collapsed": true
   },
   "outputs": [],
   "source": []
  }
 ],
 "metadata": {
  "anaconda-cloud": {},
  "kernelspec": {
   "display_name": "Python 3",
   "language": "python",
   "name": "python3"
  },
  "language_info": {
   "codemirror_mode": {
    "name": "ipython",
    "version": 3
   },
   "file_extension": ".py",
   "mimetype": "text/x-python",
   "name": "python",
   "nbconvert_exporter": "python",
   "pygments_lexer": "ipython3",
   "version": "3.5.2"
  }
 },
 "nbformat": 4,
 "nbformat_minor": 2
}
